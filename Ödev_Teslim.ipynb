{
  "nbformat": 4,
  "nbformat_minor": 0,
  "metadata": {
    "colab": {
      "provenance": [],
      "collapsed_sections": [],
      "authorship_tag": "ABX9TyPI1fdvf7eHAlVsBLsMW45p",
      "include_colab_link": true
    },
    "kernelspec": {
      "name": "python3",
      "display_name": "Python 3"
    },
    "language_info": {
      "name": "python"
    }
  },
  "cells": [
    {
      "cell_type": "markdown",
      "metadata": {
        "id": "view-in-github",
        "colab_type": "text"
      },
      "source": [
        "<a href=\"https://colab.research.google.com/github/HolyBlood1/Python_Egitim/blob/master/%C3%96dev_Teslim.ipynb\" target=\"_parent\"><img src=\"https://colab.research.google.com/assets/colab-badge.svg\" alt=\"Open In Colab\"/></a>"
      ]
    },
    {
      "cell_type": "code",
      "execution_count": null,
      "metadata": {
        "colab": {
          "base_uri": "https://localhost:8080/",
          "height": 36
        },
        "id": "rT6s2kWyo1Aj",
        "outputId": "4fb97ceb-fec2-4da8-860b-9b077b535682"
      },
      "outputs": [
        {
          "output_type": "execute_result",
          "data": {
            "text/plain": [
              "'Ödevin Teslim Tarihi 2021-05-19 00:00:00 Ödevin Teslim edilmesine kalan süre 6'"
            ],
            "application/vnd.google.colaboratory.intrinsic+json": {
              "type": "string"
            }
          },
          "metadata": {},
          "execution_count": 19
        }
      ],
      "source": [
        "import datetime\n",
        "\n",
        "\n",
        "class Homework():\n",
        "  def __init__(self,baslama,bitis,sinif_sayi,teslim_eden_sayi,kac_odev_verildi,kac_odev_kaldi,teslim_eden_isim,\n",
        "               teslim_etmeyen_isim,odeve_verilen_puan):\n",
        "    self.baslama=baslama #Lütfen Başlama ve Bitiş Tarihini şöyle yazınız '13 Mayıs 2020' str tipinde\n",
        "    self.bitis=bitis\n",
        "    self.sinif_sayi=sinif_sayi\n",
        "    self.teslim_eden_sayi=teslim_eden_sayi\n",
        "    self.kac_odev_verildi=kac_odev_verildi\n",
        "    self.kac_odev_kaldi=kac_odev_kaldi\n",
        "    self.teslim_eden_isim=teslim_eden_isim\n",
        "    self.teslim_etmeyen_isim=teslim_etmeyen_isim\n",
        "    self.odeve_verilen_puan=odeve_verilen_puan\n",
        "  def ne_kadar_sure_kaldi(self):\n",
        "    s = datetime.datetime.strptime(self.baslama, \"%d %B %Y\")\n",
        "    f = datetime.datetime.strptime(self.bitis,\"%d %B %Y\")\n",
        "    c=f-s\n",
        "    return f\"Ödevin Teslim Tarihi {f} Ödevin Teslim edilmesine kalan süre {c.days}\"\n",
        "  \n",
        "  def kac_kisi_teslim(self):\n",
        "    return f\"Sınıf Mevcudu {self.sinif_sayi} Şu kadar kişi teslim etti {self.teslim_eden_sayi} \\n Şu kadar kişi teslim edecek{self.sinif_sayi-self.teslim_eden_sayi} \"\n",
        "  def kimler_teslim_etti(self):\n",
        "    return f\"Şu kişiler teslim etti {self.teslim_eden_isim}\"\n",
        "\n",
        "\n",
        "\n",
        "odev=Homework(\"13 May 2021\",\"19 May 2021\",15,5,5,5,5,[\"Ahmet\"],[\"Onur\"])\n",
        "odev.ne_kadar_sure_kaldi()\n",
        "\n",
        "\n",
        "\n"
      ]
    },
    {
      "cell_type": "code",
      "source": [],
      "metadata": {
        "id": "cpuxpNgG3-pO"
      },
      "execution_count": null,
      "outputs": []
    }
  ]
}